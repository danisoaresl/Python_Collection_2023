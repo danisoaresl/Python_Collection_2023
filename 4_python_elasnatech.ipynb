{
  "nbformat": 4,
  "nbformat_minor": 0,
  "metadata": {
    "colab": {
      "private_outputs": true,
      "provenance": [],
      "authorship_tag": "ABX9TyMMuJkYKZ1XWhFCQhqLqgp6",
      "include_colab_link": true
    },
    "kernelspec": {
      "name": "python3",
      "display_name": "Python 3"
    },
    "language_info": {
      "name": "python"
    }
  },
  "cells": [
    {
      "cell_type": "markdown",
      "metadata": {
        "id": "view-in-github",
        "colab_type": "text"
      },
      "source": [
        "<a href=\"https://colab.research.google.com/github/danisoaresl/exercicios_python_elasnatech/blob/danisoaresl/4_python_elasnatech.ipynb\" target=\"_parent\"><img src=\"https://colab.research.google.com/assets/colab-badge.svg\" alt=\"Open In Colab\"/></a>"
      ]
    },
    {
      "cell_type": "code",
      "execution_count": null,
      "metadata": {
        "id": "o0lWPY8g_Y-A"
      },
      "outputs": [],
      "source": [
        "num1 = float (input(\"Digite o primeiro valor:\"))\n",
        "num2 = float (input(\"Digite o segundo valor:\"))\n",
        "resultado = num1 + num2\n",
        "print (\"O resultado da adição de \", num1, \"e\", num2, \"é:\", resultado)\n"
      ]
    }
  ]
}