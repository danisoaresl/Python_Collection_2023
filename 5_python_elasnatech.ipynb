{
  "nbformat": 4,
  "nbformat_minor": 0,
  "metadata": {
    "colab": {
      "private_outputs": true,
      "provenance": [],
      "authorship_tag": "ABX9TyNHfp4trAzw0Nipe1d4B92Z",
      "include_colab_link": true
    },
    "kernelspec": {
      "name": "python3",
      "display_name": "Python 3"
    },
    "language_info": {
      "name": "python"
    }
  },
  "cells": [
    {
      "cell_type": "markdown",
      "metadata": {
        "id": "view-in-github",
        "colab_type": "text"
      },
      "source": [
        "<a href=\"https://colab.research.google.com/github/danisoaresl/exercicios_python_elasnatech/blob/danisoaresl/5_python_elasnatech.ipynb\" target=\"_parent\"><img src=\"https://colab.research.google.com/assets/colab-badge.svg\" alt=\"Open In Colab\"/></a>"
      ]
    },
    {
      "cell_type": "code",
      "execution_count": null,
      "metadata": {
        "id": "S1ZmyM-2FStM"
      },
      "outputs": [],
      "source": [
        "nota1=float(input(\"Digite a nota do primeiro bimestre:\"))\n",
        "nota2=float(input(\"Digite a nota do segundo bimestre:\"))\n",
        "nota3=float(input(\"Digite a nota do terceiro bimestre:\"))\n",
        "nota4=float(input(\"Digite a nota do quarto bimestre:\"))\n",
        "media= (nota1 + nota2 + nota3 + nota4) /4\n",
        "print(\"A nota do 1o bimestre é: \",nota1)\n",
        "print(\"A nota do 2o bimestre é: \",nota2)\n",
        "print(\"A nota do 3o bimestre é: \",nota3)\n",
        "print(\"A nota do 4o bimestre é: \",nota4)\n",
        "print(\"A média final é: \",media)\n",
        "if media >= 7:\n",
        "  print(\"Aprovado\")\n",
        "else:\n",
        "  print(\"Não aprovado\")"
      ]
    }
  ]
}