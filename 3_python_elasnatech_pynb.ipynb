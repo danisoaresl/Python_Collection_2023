{
  "nbformat": 4,
  "nbformat_minor": 0,
  "metadata": {
    "colab": {
      "private_outputs": true,
      "provenance": [],
      "authorship_tag": "ABX9TyNqL/q4BcAncgjMmtLLGodr",
      "include_colab_link": true
    },
    "kernelspec": {
      "name": "python3",
      "display_name": "Python 3"
    },
    "language_info": {
      "name": "python"
    }
  },
  "cells": [
    {
      "cell_type": "markdown",
      "metadata": {
        "id": "view-in-github",
        "colab_type": "text"
      },
      "source": [
        "<a href=\"https://colab.research.google.com/github/danisoaresl/exercicios_python_elasnatech/blob/danisoaresl/3_python_elasnatech_pynb.ipynb\" target=\"_parent\"><img src=\"https://colab.research.google.com/assets/colab-badge.svg\" alt=\"Open In Colab\"/></a>"
      ]
    },
    {
      "cell_type": "code",
      "execution_count": null,
      "metadata": {
        "id": "EicvTfdBIAwd"
      },
      "outputs": [],
      "source": [
        "var_ano = int (input(\"Digite ano atual:\"))\n",
        "var_idade = int (input(\"Digite sua idade:\"))\n",
        "subtracao = var_ano - var_idade\n",
        "print(subtracao)\n"
      ]
    }
  ]
}